{
 "cells": [
  {
   "cell_type": "code",
   "execution_count": 1,
   "metadata": {
    "collapsed": false
   },
   "outputs": [
    {
     "name": "stdout",
     "output_type": "stream",
     "text": [
      "What is the length of the area?: [100] 4\n",
      "What is the breath of the area?: [100] 4\n",
      "What is the density of nodes to space? (A percentage)32\n",
      "World size: 4 by 4.\n",
      "World Coords are set up\n",
      "[[(0, 0), (1, 0), (2, 0), (3, 0)],\n",
      " [(0, 1), (1, 1), (2, 1), (3, 1)],\n",
      " [(0, 2), (1, 2), (2, 2), (3, 2)],\n",
      " [(0, 3), (1, 3), (2, 3), (3, 3)]]\n"
     ]
    }
   ],
   "source": [
    "from worldgenerator import WorldGenerator\n",
    "\n",
    "\n",
    "def get_input( message = \"Provide a number: \", input_type = int ):\n",
    "\n",
    "    try:\n",
    "\n",
    "        if input_type == int:\n",
    "            user_input = int(input(message))\n",
    "        if input_type == float:\n",
    "            user_input = float(input(message))\n",
    "\n",
    "        if user_input:\n",
    "            return user_input\n",
    "\n",
    "    except ValueError:\n",
    "\n",
    "        if input_type == int:\n",
    "            print(\"Not an integer. Please enter a number.\")\n",
    "            get_input(message, int)\n",
    "\n",
    "        if input_type == float:\n",
    "            print(\"Not a float. Please enter a number.\")\n",
    "            get_input(message, float)\n",
    "\n",
    "    \n",
    "\n",
    "# Set up Controls\n",
    "WORLD_X = get_input(\"What is the length of the area?: [100] \", int)\n",
    "WORLD_Y = get_input(\"What is the breath of the area?: [100] \", int)\n",
    "DENSITY = get_input(\"What is the density of nodes to space? (A percentage)\", float)\n",
    "\n",
    "print(\"World size: {} by {}.\".format( WORLD_X, WORLD_Y ))\n",
    "\n",
    "# Run the Generator\n",
    "gen = WorldGenerator(\n",
    "    WORLD_X = WORLD_X,\n",
    "    WORLD_Y = WORLD_Y,\n",
    "    DENSITY = DENSITY )\n",
    "\n",
    "gen.setup_world_coords()\n",
    "\n",
    "gen.view_world()\n",
    "\n",
    "#print(\"the generators world_x: {}, world_y: {}, density: {}\".format(gen.WORLD_X, WORLD_Y, DENSITY))\n",
    "# Debug code\n",
    "#print(gen.__dict__)\n"
   ]
  },
  {
   "cell_type": "code",
   "execution_count": 2,
   "metadata": {
    "collapsed": true
   },
   "outputs": [],
   "source": [
    "gen = WorldGenerator(\n",
    "    WORLD_X = 8,\n",
    "    WORLD_Y = 12,\n",
    "    DENSITY = 50)"
   ]
  },
  {
   "cell_type": "code",
   "execution_count": 3,
   "metadata": {
    "collapsed": false
   },
   "outputs": [
    {
     "name": "stdout",
     "output_type": "stream",
     "text": [
      "World Coords are set up\n"
     ]
    }
   ],
   "source": [
    "gen.setup_world_coords()"
   ]
  },
  {
   "cell_type": "code",
   "execution_count": 4,
   "metadata": {
    "collapsed": false
   },
   "outputs": [
    {
     "name": "stdout",
     "output_type": "stream",
     "text": [
      "[[(0, 0), (1, 0), (2, 0), (3, 0), (4, 0), (5, 0), (6, 0), (7, 0)],\n",
      " [(0, 1), (1, 1), (2, 1), (3, 1), (4, 1), (5, 1), (6, 1), (7, 1)],\n",
      " [(0, 2), (1, 2), (2, 2), (3, 2), (4, 2), (5, 2), (6, 2), (7, 2)],\n",
      " [(0, 3), (1, 3), (2, 3), (3, 3), (4, 3), (5, 3), (6, 3), (7, 3)],\n",
      " [(0, 4), (1, 4), (2, 4), (3, 4), (4, 4), (5, 4), (6, 4), (7, 4)],\n",
      " [(0, 5), (1, 5), (2, 5), (3, 5), (4, 5), (5, 5), (6, 5), (7, 5)],\n",
      " [(0, 6), (1, 6), (2, 6), (3, 6), (4, 6), (5, 6), (6, 6), (7, 6)],\n",
      " [(0, 7), (1, 7), (2, 7), (3, 7), (4, 7), (5, 7), (6, 7), (7, 7)],\n",
      " [(0, 8), (1, 8), (2, 8), (3, 8), (4, 8), (5, 8), (6, 8), (7, 8)],\n",
      " [(0, 9), (1, 9), (2, 9), (3, 9), (4, 9), (5, 9), (6, 9), (7, 9)],\n",
      " [(0, 10), (1, 10), (2, 10), (3, 10), (4, 10), (5, 10), (6, 10), (7, 10)],\n",
      " [(0, 11), (1, 11), (2, 11), (3, 11), (4, 11), (5, 11), (6, 11), (7, 11)]]\n"
     ]
    }
   ],
   "source": [
    "gen.view_world()"
   ]
  },
  {
   "cell_type": "code",
   "execution_count": 5,
   "metadata": {
    "collapsed": false
   },
   "outputs": [
    {
     "data": {
      "text/plain": [
       "[[(0, 2), (1, 2), (2, 2), (3, 2), (4, 2), (5, 2), (6, 2), (7, 2)],\n",
       " [(0, 4), (1, 4), (2, 4), (3, 4), (4, 4), (5, 4), (6, 4), (7, 4)],\n",
       " [(0, 6), (1, 6), (2, 6), (3, 6), (4, 6), (5, 6), (6, 6), (7, 6)]]"
      ]
     },
     "execution_count": 5,
     "metadata": {},
     "output_type": "execute_result"
    }
   ],
   "source": [
    "gen.world_coords[2:8:2]"
   ]
  },
  {
   "cell_type": "code",
   "execution_count": 6,
   "metadata": {
    "collapsed": true
   },
   "outputs": [],
   "source": [
    "def plot_new_nodes(self):\n",
    "    self.node_density = 30.2 # percentage as float\n",
    "    \n",
    "    area = self.WORLD_X * self.WORLD_Y\n",
    "    \n",
    "    nodes = int(area * (self.node_density / 100))\n",
    "    \n",
    "    print(\"Density: {0},\\nArea: {1} \\nNodes: {2}\".format(self.node_density, area, nodes))\n"
   ]
  },
  {
   "cell_type": "code",
   "execution_count": 7,
   "metadata": {
    "collapsed": false
   },
   "outputs": [
    {
     "name": "stdout",
     "output_type": "stream",
     "text": [
      "Density: 30.2,\n",
      "Area: 96 \n",
      "Nodes: 28.991999999999997\n"
     ]
    }
   ],
   "source": [
    "plot_new_nodes(gen)"
   ]
  },
  {
   "cell_type": "code",
   "execution_count": null,
   "metadata": {
    "collapsed": true
   },
   "outputs": [],
   "source": [
    "gen"
   ]
  },
  {
   "cell_type": "code",
   "execution_count": null,
   "metadata": {
    "collapsed": true
   },
   "outputs": [],
   "source": []
  }
 ],
 "metadata": {
  "kernelspec": {
   "display_name": "Python 3",
   "language": "python",
   "name": "python3"
  },
  "language_info": {
   "codemirror_mode": {
    "name": "ipython",
    "version": 3
   },
   "file_extension": ".py",
   "mimetype": "text/x-python",
   "name": "python",
   "nbconvert_exporter": "python",
   "pygments_lexer": "ipython3",
   "version": "3.5.2"
  }
 },
 "nbformat": 4,
 "nbformat_minor": 1
}
